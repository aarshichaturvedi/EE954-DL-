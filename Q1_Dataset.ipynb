import torch
from torchvision import datasets, transforms
from torch.utils.data import DataLoader, random_split

# Define transformations
transform = transforms.Compose([
    transforms.ToTensor(),
    transforms.Normalize((0.5,), (0.5,))
])

# Load Fashion MNIST dataset
fashion_mnist_dataset = datasets.FashionMNIST(root='./data', train=True, download=True, transform=transform)

# Split dataset into train, validation, and test sets
train_size = int(0.8 * len(fashion_mnist_dataset))
val_size = int(0.1 * len(fashion_mnist_dataset))
test_size = len(fashion_mnist_dataset) - train_size - val_size

train_set, val_set, test_set = random_split(fashion_mnist_dataset, [train_size, val_size, test_size])

# Create DataLoader for each set
train_loader = DataLoader(train_set, batch_size=64, shuffle=True)
val_loader = DataLoader(val_set, batch_size=64, shuffle=False)
test_loader = DataLoader(test_set, batch_size=64, shuffle=False)
