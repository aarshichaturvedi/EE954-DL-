{
  "cells": [
    {
      "cell_type": "markdown",
      "metadata": {
        "id": "view-in-github",
        "colab_type": "text"
      },
      "source": [
        "<a href=\"https://colab.research.google.com/github/abhishekv23/EE954-DL/blob/main/Assignment_1_Group1.ipynb\" target=\"_parent\"><img src=\"https://colab.research.google.com/assets/colab-badge.svg\" alt=\"Open In Colab\"/></a>"
      ]
    },
    {
      "cell_type": "markdown",
      "id": "935ad37f",
      "metadata": {
        "id": "935ad37f"
      },
      "source": [
        "#### Question 1\n",
        "\n",
        "<p>Download the Fashion_MNIST dataset. You can find it on the official Fashion-MNIST website or by using PyTorch's torchvision.datasets module. Split the dataset into training, validation and testing sets. A common split is 80% of the data to train, 10% to validate, and 10% to test scenarios, but you can adjust this as needed. Normalize the images. This involves scaling the pixel values to a range between 0 and 1.</p>\n",
        "\n",
        "---"
      ]
    },
    {
      "cell_type": "code",
      "execution_count": null,
      "id": "d079a679",
      "metadata": {
        "id": "d079a679"
      },
      "outputs": [],
      "source": [
        "# !pip install torch\n",
        "# !pip install torchvision"
      ]
    },
    {
      "cell_type": "code",
      "execution_count": null,
      "id": "f7379fc3",
      "metadata": {
        "id": "f7379fc3"
      },
      "outputs": [],
      "source": [
        "# Importing necessary libraries\n",
        "import pandas as pd\n",
        "import numpy as np\n",
        "import os\n",
        "\n",
        "import torch\n",
        "from torchvision.datasets import FashionMNIST\n",
        "import torchvision.transforms as transforms\n",
        "from torch.utils.data import Dataset, random_split"
      ]
    },
    {
      "cell_type": "code",
      "execution_count": null,
      "id": "3020ff90",
      "metadata": {
        "id": "3020ff90"
      },
      "outputs": [],
      "source": [
        "# Reading dataset\n",
        "train = FashionMNIST('./data', train=True, download=True)\n",
        "\n",
        "test_set = FashionMNIST('./data', train=False, download=True)"
      ]
    },
    {
      "cell_type": "code",
      "execution_count": null,
      "id": "5afdef8e",
      "metadata": {
        "id": "5afdef8e"
      },
      "outputs": [],
      "source": [
        "# Spilt the Training and Validation dataset\n",
        "train_size = int(0.8 * len(train))\n",
        "val_size = int(0.2 * len(train))\n",
        "\n",
        "train_set, val_set = random_split(train, [train_size, val_size])"
      ]
    },
    {
      "cell_type": "code",
      "execution_count": null,
      "id": "e784007c",
      "metadata": {
        "id": "e784007c",
        "outputId": "eb712940-758b-442f-d47a-8f15dc56f388"
      },
      "outputs": [
        {
          "data": {
            "text/plain": [
              "<torch.utils.data.dataset.Subset at 0x1729d563790>"
            ]
          },
          "execution_count": 5,
          "metadata": {},
          "output_type": "execute_result"
        }
      ],
      "source": [
        "train_set"
      ]
    },
    {
      "cell_type": "markdown",
      "id": "a694c39e",
      "metadata": {
        "id": "a694c39e"
      },
      "source": [
        "#### Using Pandas and Numpy"
      ]
    },
    {
      "cell_type": "code",
      "execution_count": null,
      "id": "dcc03ef0",
      "metadata": {
        "id": "dcc03ef0"
      },
      "outputs": [],
      "source": [
        "# Using dataset in local\n",
        "train = pd.read_csv('./Dataset/fashion-mnist_train.csv')\n",
        "\n",
        "test = pd.read_csv('./Dataset/fashion-mnist_test.csv')"
      ]
    },
    {
      "cell_type": "code",
      "execution_count": null,
      "id": "146621e6",
      "metadata": {
        "id": "146621e6"
      },
      "outputs": [],
      "source": [
        "train_cols = train.columns"
      ]
    },
    {
      "cell_type": "code",
      "execution_count": null,
      "id": "2537e39b",
      "metadata": {
        "id": "2537e39b",
        "outputId": "a839a4b5-fbd3-4bbb-fe89-26aa67b43d99"
      },
      "outputs": [
        {
          "data": {
            "text/html": [
              "<div>\n",
              "<style scoped>\n",
              "    .dataframe tbody tr th:only-of-type {\n",
              "        vertical-align: middle;\n",
              "    }\n",
              "\n",
              "    .dataframe tbody tr th {\n",
              "        vertical-align: top;\n",
              "    }\n",
              "\n",
              "    .dataframe thead th {\n",
              "        text-align: right;\n",
              "    }\n",
              "</style>\n",
              "<table border=\"1\" class=\"dataframe\">\n",
              "  <thead>\n",
              "    <tr style=\"text-align: right;\">\n",
              "      <th></th>\n",
              "      <th>label</th>\n",
              "      <th>pixel1</th>\n",
              "      <th>pixel2</th>\n",
              "      <th>pixel3</th>\n",
              "      <th>pixel4</th>\n",
              "      <th>pixel5</th>\n",
              "      <th>pixel6</th>\n",
              "      <th>pixel7</th>\n",
              "      <th>pixel8</th>\n",
              "      <th>pixel9</th>\n",
              "      <th>...</th>\n",
              "      <th>pixel775</th>\n",
              "      <th>pixel776</th>\n",
              "      <th>pixel777</th>\n",
              "      <th>pixel778</th>\n",
              "      <th>pixel779</th>\n",
              "      <th>pixel780</th>\n",
              "      <th>pixel781</th>\n",
              "      <th>pixel782</th>\n",
              "      <th>pixel783</th>\n",
              "      <th>pixel784</th>\n",
              "    </tr>\n",
              "  </thead>\n",
              "  <tbody>\n",
              "    <tr>\n",
              "      <th>0</th>\n",
              "      <td>2</td>\n",
              "      <td>0</td>\n",
              "      <td>0</td>\n",
              "      <td>0</td>\n",
              "      <td>0</td>\n",
              "      <td>0</td>\n",
              "      <td>0</td>\n",
              "      <td>0</td>\n",
              "      <td>0</td>\n",
              "      <td>0</td>\n",
              "      <td>...</td>\n",
              "      <td>0</td>\n",
              "      <td>0</td>\n",
              "      <td>0</td>\n",
              "      <td>0</td>\n",
              "      <td>0</td>\n",
              "      <td>0</td>\n",
              "      <td>0</td>\n",
              "      <td>0</td>\n",
              "      <td>0</td>\n",
              "      <td>0</td>\n",
              "    </tr>\n",
              "    <tr>\n",
              "      <th>1</th>\n",
              "      <td>9</td>\n",
              "      <td>0</td>\n",
              "      <td>0</td>\n",
              "      <td>0</td>\n",
              "      <td>0</td>\n",
              "      <td>0</td>\n",
              "      <td>0</td>\n",
              "      <td>0</td>\n",
              "      <td>0</td>\n",
              "      <td>0</td>\n",
              "      <td>...</td>\n",
              "      <td>0</td>\n",
              "      <td>0</td>\n",
              "      <td>0</td>\n",
              "      <td>0</td>\n",
              "      <td>0</td>\n",
              "      <td>0</td>\n",
              "      <td>0</td>\n",
              "      <td>0</td>\n",
              "      <td>0</td>\n",
              "      <td>0</td>\n",
              "    </tr>\n",
              "    <tr>\n",
              "      <th>2</th>\n",
              "      <td>6</td>\n",
              "      <td>0</td>\n",
              "      <td>0</td>\n",
              "      <td>0</td>\n",
              "      <td>0</td>\n",
              "      <td>0</td>\n",
              "      <td>0</td>\n",
              "      <td>0</td>\n",
              "      <td>5</td>\n",
              "      <td>0</td>\n",
              "      <td>...</td>\n",
              "      <td>0</td>\n",
              "      <td>0</td>\n",
              "      <td>0</td>\n",
              "      <td>30</td>\n",
              "      <td>43</td>\n",
              "      <td>0</td>\n",
              "      <td>0</td>\n",
              "      <td>0</td>\n",
              "      <td>0</td>\n",
              "      <td>0</td>\n",
              "    </tr>\n",
              "    <tr>\n",
              "      <th>3</th>\n",
              "      <td>0</td>\n",
              "      <td>0</td>\n",
              "      <td>0</td>\n",
              "      <td>0</td>\n",
              "      <td>1</td>\n",
              "      <td>2</td>\n",
              "      <td>0</td>\n",
              "      <td>0</td>\n",
              "      <td>0</td>\n",
              "      <td>0</td>\n",
              "      <td>...</td>\n",
              "      <td>3</td>\n",
              "      <td>0</td>\n",
              "      <td>0</td>\n",
              "      <td>0</td>\n",
              "      <td>0</td>\n",
              "      <td>1</td>\n",
              "      <td>0</td>\n",
              "      <td>0</td>\n",
              "      <td>0</td>\n",
              "      <td>0</td>\n",
              "    </tr>\n",
              "    <tr>\n",
              "      <th>4</th>\n",
              "      <td>3</td>\n",
              "      <td>0</td>\n",
              "      <td>0</td>\n",
              "      <td>0</td>\n",
              "      <td>0</td>\n",
              "      <td>0</td>\n",
              "      <td>0</td>\n",
              "      <td>0</td>\n",
              "      <td>0</td>\n",
              "      <td>0</td>\n",
              "      <td>...</td>\n",
              "      <td>0</td>\n",
              "      <td>0</td>\n",
              "      <td>0</td>\n",
              "      <td>0</td>\n",
              "      <td>0</td>\n",
              "      <td>0</td>\n",
              "      <td>0</td>\n",
              "      <td>0</td>\n",
              "      <td>0</td>\n",
              "      <td>0</td>\n",
              "    </tr>\n",
              "  </tbody>\n",
              "</table>\n",
              "<p>5 rows × 785 columns</p>\n",
              "</div>"
            ],
            "text/plain": [
              "   label  pixel1  pixel2  pixel3  pixel4  pixel5  pixel6  pixel7  pixel8  \\\n",
              "0      2       0       0       0       0       0       0       0       0   \n",
              "1      9       0       0       0       0       0       0       0       0   \n",
              "2      6       0       0       0       0       0       0       0       5   \n",
              "3      0       0       0       0       1       2       0       0       0   \n",
              "4      3       0       0       0       0       0       0       0       0   \n",
              "\n",
              "   pixel9  ...  pixel775  pixel776  pixel777  pixel778  pixel779  pixel780  \\\n",
              "0       0  ...         0         0         0         0         0         0   \n",
              "1       0  ...         0         0         0         0         0         0   \n",
              "2       0  ...         0         0         0        30        43         0   \n",
              "3       0  ...         3         0         0         0         0         1   \n",
              "4       0  ...         0         0         0         0         0         0   \n",
              "\n",
              "   pixel781  pixel782  pixel783  pixel784  \n",
              "0         0         0         0         0  \n",
              "1         0         0         0         0  \n",
              "2         0         0         0         0  \n",
              "3         0         0         0         0  \n",
              "4         0         0         0         0  \n",
              "\n",
              "[5 rows x 785 columns]"
            ]
          },
          "execution_count": 8,
          "metadata": {},
          "output_type": "execute_result"
        }
      ],
      "source": [
        "train.head()"
      ]
    },
    {
      "cell_type": "code",
      "execution_count": null,
      "id": "73376b43",
      "metadata": {
        "id": "73376b43",
        "outputId": "9e4e28d9-84e6-4049-ca36-2eca8b6cd41c"
      },
      "outputs": [
        {
          "data": {
            "text/plain": [
              "array([[0, 0, 0, ..., 0, 0, 0],\n",
              "       [0, 0, 0, ..., 0, 0, 0],\n",
              "       [0, 0, 0, ..., 0, 0, 0],\n",
              "       ...,\n",
              "       [0, 0, 0, ..., 0, 0, 0],\n",
              "       [0, 0, 0, ..., 0, 0, 0],\n",
              "       [0, 0, 0, ..., 0, 0, 0]], dtype=int64)"
            ]
          },
          "execution_count": 9,
          "metadata": {},
          "output_type": "execute_result"
        }
      ],
      "source": [
        "# Normalize training data\n",
        "train_labels = train['label']\n",
        "\n",
        "train_img = train.iloc[:, 1:]\n",
        "train_img.values"
      ]
    },
    {
      "cell_type": "code",
      "execution_count": null,
      "id": "462183c6",
      "metadata": {
        "id": "462183c6"
      },
      "outputs": [],
      "source": [
        "train_images_flat = train_img.values.reshape(train_img.shape[0], -1)"
      ]
    },
    {
      "cell_type": "code",
      "execution_count": null,
      "id": "7a725844",
      "metadata": {
        "id": "7a725844",
        "outputId": "b90441a6-c03d-4b44-a663-425e952e3ff2"
      },
      "outputs": [
        {
          "data": {
            "text/plain": [
              "784"
            ]
          },
          "execution_count": 11,
          "metadata": {},
          "output_type": "execute_result"
        }
      ],
      "source": [
        "len(train_images_flat[1])"
      ]
    },
    {
      "cell_type": "code",
      "execution_count": null,
      "id": "4707d92d",
      "metadata": {
        "id": "4707d92d"
      },
      "outputs": [],
      "source": [
        "# Normalize training data\n",
        "train_images_flat = train_images_flat.astype('float32') / 255.0"
      ]
    },
    {
      "cell_type": "code",
      "execution_count": null,
      "id": "5aeb844b",
      "metadata": {
        "id": "5aeb844b",
        "outputId": "2d548a14-78a8-4429-ca25-91d1d12a1b26"
      },
      "outputs": [
        {
          "data": {
            "text/plain": [
              "784"
            ]
          },
          "execution_count": 13,
          "metadata": {},
          "output_type": "execute_result"
        }
      ],
      "source": [
        "len(train_images_flat[1])"
      ]
    },
    {
      "cell_type": "code",
      "execution_count": null,
      "id": "572d4772",
      "metadata": {
        "id": "572d4772"
      },
      "outputs": [],
      "source": [
        "normalized_df = pd.DataFrame.from_records(train_images_flat,\n",
        "                                          columns = train_cols[1:])\n",
        "\n",
        "normalized_df['labels'] = train_labels"
      ]
    },
    {
      "cell_type": "code",
      "execution_count": null,
      "id": "eea94818",
      "metadata": {
        "scrolled": false,
        "id": "eea94818",
        "outputId": "8a720f2e-e153-4735-a3da-c49faf75be4a"
      },
      "outputs": [
        {
          "data": {
            "text/html": [
              "<div>\n",
              "<style scoped>\n",
              "    .dataframe tbody tr th:only-of-type {\n",
              "        vertical-align: middle;\n",
              "    }\n",
              "\n",
              "    .dataframe tbody tr th {\n",
              "        vertical-align: top;\n",
              "    }\n",
              "\n",
              "    .dataframe thead th {\n",
              "        text-align: right;\n",
              "    }\n",
              "</style>\n",
              "<table border=\"1\" class=\"dataframe\">\n",
              "  <thead>\n",
              "    <tr style=\"text-align: right;\">\n",
              "      <th></th>\n",
              "      <th>pixel1</th>\n",
              "      <th>pixel2</th>\n",
              "      <th>pixel3</th>\n",
              "      <th>pixel4</th>\n",
              "      <th>pixel5</th>\n",
              "      <th>pixel6</th>\n",
              "      <th>pixel7</th>\n",
              "      <th>pixel8</th>\n",
              "      <th>pixel9</th>\n",
              "      <th>pixel10</th>\n",
              "      <th>...</th>\n",
              "      <th>pixel776</th>\n",
              "      <th>pixel777</th>\n",
              "      <th>pixel778</th>\n",
              "      <th>pixel779</th>\n",
              "      <th>pixel780</th>\n",
              "      <th>pixel781</th>\n",
              "      <th>pixel782</th>\n",
              "      <th>pixel783</th>\n",
              "      <th>pixel784</th>\n",
              "      <th>labels</th>\n",
              "    </tr>\n",
              "  </thead>\n",
              "  <tbody>\n",
              "    <tr>\n",
              "      <th>0</th>\n",
              "      <td>0.0</td>\n",
              "      <td>0.0</td>\n",
              "      <td>0.0</td>\n",
              "      <td>0.000000</td>\n",
              "      <td>0.000000</td>\n",
              "      <td>0.0</td>\n",
              "      <td>0.0</td>\n",
              "      <td>0.000000</td>\n",
              "      <td>0.0</td>\n",
              "      <td>0.0</td>\n",
              "      <td>...</td>\n",
              "      <td>0.0</td>\n",
              "      <td>0.0</td>\n",
              "      <td>0.000000</td>\n",
              "      <td>0.000000</td>\n",
              "      <td>0.000000</td>\n",
              "      <td>0.0</td>\n",
              "      <td>0.0</td>\n",
              "      <td>0.0</td>\n",
              "      <td>0.0</td>\n",
              "      <td>2</td>\n",
              "    </tr>\n",
              "    <tr>\n",
              "      <th>1</th>\n",
              "      <td>0.0</td>\n",
              "      <td>0.0</td>\n",
              "      <td>0.0</td>\n",
              "      <td>0.000000</td>\n",
              "      <td>0.000000</td>\n",
              "      <td>0.0</td>\n",
              "      <td>0.0</td>\n",
              "      <td>0.000000</td>\n",
              "      <td>0.0</td>\n",
              "      <td>0.0</td>\n",
              "      <td>...</td>\n",
              "      <td>0.0</td>\n",
              "      <td>0.0</td>\n",
              "      <td>0.000000</td>\n",
              "      <td>0.000000</td>\n",
              "      <td>0.000000</td>\n",
              "      <td>0.0</td>\n",
              "      <td>0.0</td>\n",
              "      <td>0.0</td>\n",
              "      <td>0.0</td>\n",
              "      <td>9</td>\n",
              "    </tr>\n",
              "    <tr>\n",
              "      <th>2</th>\n",
              "      <td>0.0</td>\n",
              "      <td>0.0</td>\n",
              "      <td>0.0</td>\n",
              "      <td>0.000000</td>\n",
              "      <td>0.000000</td>\n",
              "      <td>0.0</td>\n",
              "      <td>0.0</td>\n",
              "      <td>0.019608</td>\n",
              "      <td>0.0</td>\n",
              "      <td>0.0</td>\n",
              "      <td>...</td>\n",
              "      <td>0.0</td>\n",
              "      <td>0.0</td>\n",
              "      <td>0.117647</td>\n",
              "      <td>0.168627</td>\n",
              "      <td>0.000000</td>\n",
              "      <td>0.0</td>\n",
              "      <td>0.0</td>\n",
              "      <td>0.0</td>\n",
              "      <td>0.0</td>\n",
              "      <td>6</td>\n",
              "    </tr>\n",
              "    <tr>\n",
              "      <th>3</th>\n",
              "      <td>0.0</td>\n",
              "      <td>0.0</td>\n",
              "      <td>0.0</td>\n",
              "      <td>0.003922</td>\n",
              "      <td>0.007843</td>\n",
              "      <td>0.0</td>\n",
              "      <td>0.0</td>\n",
              "      <td>0.000000</td>\n",
              "      <td>0.0</td>\n",
              "      <td>0.0</td>\n",
              "      <td>...</td>\n",
              "      <td>0.0</td>\n",
              "      <td>0.0</td>\n",
              "      <td>0.000000</td>\n",
              "      <td>0.000000</td>\n",
              "      <td>0.003922</td>\n",
              "      <td>0.0</td>\n",
              "      <td>0.0</td>\n",
              "      <td>0.0</td>\n",
              "      <td>0.0</td>\n",
              "      <td>0</td>\n",
              "    </tr>\n",
              "    <tr>\n",
              "      <th>4</th>\n",
              "      <td>0.0</td>\n",
              "      <td>0.0</td>\n",
              "      <td>0.0</td>\n",
              "      <td>0.000000</td>\n",
              "      <td>0.000000</td>\n",
              "      <td>0.0</td>\n",
              "      <td>0.0</td>\n",
              "      <td>0.000000</td>\n",
              "      <td>0.0</td>\n",
              "      <td>0.0</td>\n",
              "      <td>...</td>\n",
              "      <td>0.0</td>\n",
              "      <td>0.0</td>\n",
              "      <td>0.000000</td>\n",
              "      <td>0.000000</td>\n",
              "      <td>0.000000</td>\n",
              "      <td>0.0</td>\n",
              "      <td>0.0</td>\n",
              "      <td>0.0</td>\n",
              "      <td>0.0</td>\n",
              "      <td>3</td>\n",
              "    </tr>\n",
              "  </tbody>\n",
              "</table>\n",
              "<p>5 rows × 785 columns</p>\n",
              "</div>"
            ],
            "text/plain": [
              "   pixel1  pixel2  pixel3    pixel4    pixel5  pixel6  pixel7    pixel8  \\\n",
              "0     0.0     0.0     0.0  0.000000  0.000000     0.0     0.0  0.000000   \n",
              "1     0.0     0.0     0.0  0.000000  0.000000     0.0     0.0  0.000000   \n",
              "2     0.0     0.0     0.0  0.000000  0.000000     0.0     0.0  0.019608   \n",
              "3     0.0     0.0     0.0  0.003922  0.007843     0.0     0.0  0.000000   \n",
              "4     0.0     0.0     0.0  0.000000  0.000000     0.0     0.0  0.000000   \n",
              "\n",
              "   pixel9  pixel10  ...  pixel776  pixel777  pixel778  pixel779  pixel780  \\\n",
              "0     0.0      0.0  ...       0.0       0.0  0.000000  0.000000  0.000000   \n",
              "1     0.0      0.0  ...       0.0       0.0  0.000000  0.000000  0.000000   \n",
              "2     0.0      0.0  ...       0.0       0.0  0.117647  0.168627  0.000000   \n",
              "3     0.0      0.0  ...       0.0       0.0  0.000000  0.000000  0.003922   \n",
              "4     0.0      0.0  ...       0.0       0.0  0.000000  0.000000  0.000000   \n",
              "\n",
              "   pixel781  pixel782  pixel783  pixel784  labels  \n",
              "0       0.0       0.0       0.0       0.0       2  \n",
              "1       0.0       0.0       0.0       0.0       9  \n",
              "2       0.0       0.0       0.0       0.0       6  \n",
              "3       0.0       0.0       0.0       0.0       0  \n",
              "4       0.0       0.0       0.0       0.0       3  \n",
              "\n",
              "[5 rows x 785 columns]"
            ]
          },
          "execution_count": 26,
          "metadata": {},
          "output_type": "execute_result"
        }
      ],
      "source": [
        "normalized_df.head()"
      ]
    },
    {
      "cell_type": "markdown",
      "id": "b6edbea4",
      "metadata": {
        "id": "b6edbea4"
      },
      "source": [
        "## Implement a MLP for classification. (total 40 marks)\n",
        "a. Flatten the images into a single dimensional vector before feeding it to the model.\n",
        "(1 marks)\n",
        "b. Write a pre-processing module for all the images. (3 marks)\n",
        "c. Write the Forward pass from scratch. Use of the inbuilt forward pass function will\n",
        "result in 0 marks for this sub-question. (8 marks)\n",
        "d. Write the Backward pass from scratch. Use the inbuilt back propagation function\n",
        "will result in 0 marks for this sub-question (12 marks)\n",
        "e. Write the module for cross entropy loss (1 marks)\n",
        "f. Experiment with different hyperparameters like number of layers, dropout,\n",
        "objective function, etc. and settle with a combination which performs the best for\n",
        "the given problem. (15 Marks)"
      ]
    },
    {
      "cell_type": "code",
      "execution_count": null,
      "id": "555e7b39",
      "metadata": {
        "id": "555e7b39",
        "outputId": "3a6485b6-5737-4d0e-8297-97b1f718d99b"
      },
      "outputs": [
        {
          "name": "stdout",
          "output_type": "stream",
          "text": [
            "Intel MKL WARNING: Support of Intel(R) Streaming SIMD Extensions 4.2 (Intel(R) SSE4.2) enabled only processors has been deprecated. Intel oneAPI Math Kernel Library 2025.0 will require Intel(R) Advanced Vector Extensions (Intel(R) AVX) instructions.\n",
            "Intel MKL WARNING: Support of Intel(R) Streaming SIMD Extensions 4.2 (Intel(R) SSE4.2) enabled only processors has been deprecated. Intel oneAPI Math Kernel Library 2025.0 will require Intel(R) Advanced Vector Extensions (Intel(R) AVX) instructions.\n"
          ]
        },
        {
          "ename": "NameError",
          "evalue": "name 'torchvision' is not defined",
          "output_type": "error",
          "traceback": [
            "\u001b[0;31m---------------------------------------------------------------------------\u001b[0m",
            "\u001b[0;31mNameError\u001b[0m                                 Traceback (most recent call last)",
            "Cell \u001b[0;32mIn[1], line 12\u001b[0m\n\u001b[1;32m      6\u001b[0m \u001b[38;5;66;03m# Data Preprocessing (Part 2b)\u001b[39;00m\n\u001b[1;32m      7\u001b[0m transform \u001b[38;5;241m=\u001b[39m transforms\u001b[38;5;241m.\u001b[39mCompose([\n\u001b[1;32m      8\u001b[0m     transforms\u001b[38;5;241m.\u001b[39mToTensor(),\n\u001b[1;32m      9\u001b[0m     transforms\u001b[38;5;241m.\u001b[39mNormalize((\u001b[38;5;241m0.5\u001b[39m,), (\u001b[38;5;241m0.5\u001b[39m,))\n\u001b[1;32m     10\u001b[0m ])\n\u001b[0;32m---> 12\u001b[0m dataset \u001b[38;5;241m=\u001b[39m \u001b[43mtorchvision\u001b[49m\u001b[38;5;241m.\u001b[39mdatasets\u001b[38;5;241m.\u001b[39mFashionMNIST(root\u001b[38;5;241m=\u001b[39m\u001b[38;5;124m'\u001b[39m\u001b[38;5;124m./data\u001b[39m\u001b[38;5;124m'\u001b[39m, train\u001b[38;5;241m=\u001b[39m\u001b[38;5;28;01mTrue\u001b[39;00m, download\u001b[38;5;241m=\u001b[39m\u001b[38;5;28;01mTrue\u001b[39;00m, transform\u001b[38;5;241m=\u001b[39mtransform)\n\u001b[1;32m     14\u001b[0m train_size \u001b[38;5;241m=\u001b[39m \u001b[38;5;28mint\u001b[39m(\u001b[38;5;241m0.8\u001b[39m \u001b[38;5;241m*\u001b[39m \u001b[38;5;28mlen\u001b[39m(dataset))\n\u001b[1;32m     15\u001b[0m val_size \u001b[38;5;241m=\u001b[39m \u001b[38;5;28mint\u001b[39m(\u001b[38;5;241m0.1\u001b[39m \u001b[38;5;241m*\u001b[39m \u001b[38;5;28mlen\u001b[39m(dataset))\n",
            "\u001b[0;31mNameError\u001b[0m: name 'torchvision' is not defined"
          ]
        }
      ],
      "source": [
        "#import torch\n",
        "#import torchvision\n",
        "from torch.utils.data import DataLoader, random_split\n",
        "import torchvision.transforms as transforms\n",
        "\n",
        "# Data Preprocessing (Part 2b)\n",
        "transform = transforms.Compose([\n",
        "    transforms.ToTensor(),\n",
        "    transforms.Normalize((0.5,), (0.5,))\n",
        "])\n",
        "\n",
        "dataset = torchvision.datasets.FashionMNIST(root='./data', train=True, download=True, transform=transform)\n",
        "\n",
        "train_size = int(0.8 * len(dataset))\n",
        "val_size = int(0.1 * len(dataset))\n",
        "test_size = len(dataset) - train_size - val_size\n",
        "\n",
        "train_dataset, val_dataset, test_dataset = random_split(dataset, [train_size, val_size, test_size])\n",
        "\n",
        "train_loader = DataLoader(train_dataset, batch_size=64, shuffle=True)\n",
        "val_loader = DataLoader(val_dataset, batch_size=64, shuffle=False)\n",
        "test_loader = DataLoader(test_dataset, batch_size=64, shuffle=False)\n",
        "\n",
        "# MLP Implementation\n",
        "class MLP:\n",
        "    def __init__(self, input_size, hidden_size, num_classes):\n",
        "        self.input_size = input_size\n",
        "        self.hidden_size = hidden_size\n",
        "        self.num_classes = num_classes\n",
        "\n",
        "        # Initialize weights and biases\n",
        "        self.W1 = torch.randn(input_size, hidden_size) * 0.01\n",
        "        self.b1 = torch.zeros(hidden_size)\n",
        "        self.W2 = torch.randn(hidden_size, num_classes) * 0.01\n",
        "        self.b2 = torch.zeros(num_classes)\n",
        "\n",
        "    # Forward Pass (Part 2c)\n",
        "    def forward(self, x):\n",
        "        x = x.view(-1, self.input_size)  # Flatten the image\n",
        "\n",
        "        # First layer: input to hidden\n",
        "        self.z1 = x @ self.W1 + self.b1\n",
        "        self.a1 = self.relu(self.z1)  # Apply ReLU activation\n",
        "\n",
        "        # Second layer: hidden to output\n",
        "        self.z2 = self.a1 @ self.W2 + self.b2\n",
        "\n",
        "        return self.z2\n",
        "\n",
        "    def relu(self, z):\n",
        "        return torch.max(torch.zeros_like(z), z)\n",
        "\n",
        "    def relu_derivative(self, z):\n",
        "        return (z > 0).float()\n",
        "\n",
        "    # Backward Pass (Part 2d)\n",
        "    def backward(self, x, y, outputs, learning_rate):\n",
        "        m = y.size(0)\n",
        "\n",
        "        dL_dz2 = outputs - y\n",
        "\n",
        "        dL_dW2 = (self.a1.t() @ dL_dz2) / m\n",
        "        dL_db2 = dL_dz2.mean(dim=0)\n",
        "\n",
        "        dL_da1 = dL_dz2 @ self.W2.t()\n",
        "\n",
        "        dL_dz1 = dL_da1 * self.relu_derivative(self.z1)\n",
        "\n",
        "        dL_dW1 = (x.view(-1, self.input_size).t() @ dL_dz1) / m\n",
        "        dL_db1 = dL_dz1.mean(dim=0)\n",
        "\n",
        "        self.W1 -= learning_rate * dL_dW1\n",
        "        self.b1 -= learning_rate * dL_db1\n",
        "        self.W2 -= learning_rate * dL_dW2\n",
        "        self.b2 -= learning_rate * dL_db2\n",
        "\n",
        "# Cross Entropy Loss (Part 2e)\n",
        "def cross_entropy_loss(outputs, labels):\n",
        "    labels_one_hot = torch.zeros(labels.size(0), num_classes)\n",
        "    labels_one_hot[range(labels.size(0)), labels] = 1\n",
        "    loss = -torch.mean(torch.sum(labels_one_hot * torch.log_softmax(outputs, dim=1), dim=1))\n",
        "    return loss\n",
        "\n",
        "input_size = 28 * 28\n",
        "hidden_size = 128\n",
        "num_classes = 10\n",
        "learning_rate = 0.01\n",
        "num_epochs = 20\n",
        "\n",
        "model = MLP(input_size, hidden_size, num_classes)\n",
        "\n",
        "for epoch in range(num_epochs):\n",
        "    for images, labels in train_loader:\n",
        "        outputs = model.forward(images)\n",
        "\n",
        "        loss = cross_entropy_loss(outputs, labels)\n",
        "\n",
        "        # Backward pass\n",
        "        model.backward(images, labels, outputs, learning_rate)\n",
        "\n",
        "    print(f'Epoch [{epoch+1}/{num_epochs}], Loss: {loss.item():.4f}')\n",
        "\n",
        "# Validation and Testing\n",
        "def evaluate(loader):\n",
        "    model.eval()\n",
        "    with torch.no_grad():\n",
        "        correct = 0\n",
        "        total = 0\n",
        "        for images, labels in loader:\n",
        "            outputs = model.forward(images)\n",
        "            _, predicted = torch.max(outputs, 1)\n",
        "            total += labels.size(0)\n",
        "            correct += (predicted == labels).sum().item()\n",
        "        accuracy = 100 * correct / total\n",
        "    return accuracy\n",
        "\n",
        "val_accuracy = evaluate(val_loader)\n",
        "test_accuracy = evaluate(test_loader)\n",
        "\n",
        "print(f'Validation Accuracy: {val_accuracy:.2f}%')\n",
        "print(f'Test Accuracy: {test_accuracy:.2f}%')\n"
      ]
    },
    {
      "cell_type": "code",
      "execution_count": null,
      "id": "d03f1031",
      "metadata": {
        "id": "d03f1031"
      },
      "outputs": [],
      "source": []
    }
  ],
  "metadata": {
    "kernelspec": {
      "display_name": "Python 3 (ipykernel)",
      "language": "python",
      "name": "python3"
    },
    "language_info": {
      "codemirror_mode": {
        "name": "ipython",
        "version": 3
      },
      "file_extension": ".py",
      "mimetype": "text/x-python",
      "name": "python",
      "nbconvert_exporter": "python",
      "pygments_lexer": "ipython3",
      "version": "3.8.8"
    },
    "colab": {
      "provenance": [],
      "include_colab_link": true
    }
  },
  "nbformat": 4,
  "nbformat_minor": 5
}